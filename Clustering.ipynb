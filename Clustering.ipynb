{
 "cells": [
  {
   "cell_type": "code",
   "execution_count": null,
   "metadata": {},
   "outputs": [],
   "source": [
    "import pandas as pd\n",
    "import numpy as np\n",
    "import matplotlib.pyplot as plt\n",
    "import seaborn as sns\n",
    "from sklearn.preprocessing import StandardScaler, MinMaxScaler\n",
    "from sklearn.preprocessing import LabelEncoder\n",
    "from sklearn import metrics\n",
    "from sklearn.metrics import silhouette_score\n",
    "import math\n",
    "import random as r\n",
    "import copy"
   ]
  },
  {
   "cell_type": "markdown",
   "metadata": {},
   "source": [
    "# DATA EXPLORATION & DATA PREPARATION"
   ]
  },
  {
   "cell_type": "code",
   "execution_count": null,
   "metadata": {},
   "outputs": [],
   "source": [
    "# MEMBACA DATA TRAIN & DATA TEST\n",
    "\n",
    "df_train = pd.read_csv('salju_train.csv')\n",
    "df_test = pd.read_csv('salju_test.csv')"
   ]
  },
  {
   "cell_type": "code",
   "execution_count": null,
   "metadata": {},
   "outputs": [],
   "source": [
    "# MENAMPILKAN 5 DATA TERATAS PADA DATA TRAIN\n",
    "\n",
    "df_train.head()"
   ]
  },
  {
   "cell_type": "code",
   "execution_count": null,
   "metadata": {},
   "outputs": [],
   "source": [
    " # MENAMPILKAN JUMLAH BARIS DAN KOLOM\n",
    "\n",
    "df_train.shape"
   ]
  },
  {
   "cell_type": "code",
   "execution_count": null,
   "metadata": {},
   "outputs": [],
   "source": [
    "# MENAMPILKAN INFORMASI TIPE DATA SETIAP KOLOM\n",
    "\n",
    "df_train.info()"
   ]
  },
  {
   "cell_type": "code",
   "execution_count": null,
   "metadata": {},
   "outputs": [],
   "source": [
    "# MENAMPILKAN DESKRIPSI RERATA, NILAI MIN & MAX, DLL.\n",
    "\n",
    "df_train.describe()"
   ]
  },
  {
   "cell_type": "code",
   "execution_count": null,
   "metadata": {},
   "outputs": [],
   "source": [
    "# MENAMPILKAN JUMLAH DATA NULL SETIAP KOLOM\n",
    "\n",
    "df_train.isnull().sum()"
   ]
  },
  {
   "cell_type": "code",
   "execution_count": null,
   "metadata": {},
   "outputs": [],
   "source": [
    "# MENAMPILKAN JUMLAH DATA YANG MEMILIKI DUPLIKAT\n",
    "\n",
    "df_train.duplicated().sum()"
   ]
  },
  {
   "cell_type": "code",
   "execution_count": null,
   "metadata": {},
   "outputs": [],
   "source": [
    "# MENGISI NILAI YANG KOSONG\n",
    "\n",
    "df_train.fillna(df_train.mean(), inplace=True) # untuk data numerik\n",
    "df_train = df_train.fillna(df_train.mode().iloc[0]) # untuk data string\n",
    "\n",
    "df_train.head()"
   ]
  },
  {
   "cell_type": "code",
   "execution_count": null,
   "metadata": {},
   "outputs": [],
   "source": [
    "# DATA SUDAH TIDAK ADA YANG BERNILAI NULL\n",
    "\n",
    "df_train.isnull().sum()"
   ]
  },
  {
   "cell_type": "code",
   "execution_count": null,
   "metadata": {},
   "outputs": [],
   "source": [
    "# HAPUS KOLOM YANG TIDAK DIPERLUKAN\n",
    "\n",
    "cols = [0,1,2]\n",
    "df_train.drop(df_train.columns[cols], axis=1, inplace=True)"
   ]
  },
  {
   "cell_type": "code",
   "execution_count": null,
   "metadata": {},
   "outputs": [],
   "source": [
    "# MENEMUKAN OUTLIER\n",
    "\n",
    "df_train_num = df_train.iloc[:,[0,1,2,3,4,6,9,10,11,12,13,14,15,16,17,18]]\n",
    "df_train_num.columns\n",
    "\n",
    "fig, axes = plt.subplots(ncols = 4, nrows = 4, figsize=(20,15))\n",
    "\n",
    "for i, ax in zip(df_train_num.columns, axes.flat):\n",
    "    sns.boxplot(x=df_train_num[i],ax=ax)\n",
    "plt.show()"
   ]
  },
  {
   "cell_type": "code",
   "execution_count": null,
   "metadata": {},
   "outputs": [],
   "source": [
    "# MEMBUAT MATRIKS KORELASI\n",
    "\n",
    "mtrxCor1 = df_train_num.corr()\n",
    "plt.figure(figsize=(20,15))\n",
    "sns.heatmap(mtrxCor1, annot=True)\n",
    "plt.show()"
   ]
  },
  {
   "cell_type": "code",
   "execution_count": null,
   "metadata": {},
   "outputs": [],
   "source": [
    "# MENAMPILKAN DISTRIBUSI DATA TIAP KOLOM MENGGUNAKAN HISTOGRAM\n",
    "\n",
    "hist = df_train_num.hist(figsize=(20,15))"
   ]
  },
  {
   "cell_type": "code",
   "execution_count": null,
   "metadata": {},
   "outputs": [],
   "source": [
    "sns.countplot(x = 'ArahAnginTerkencang', data = df_train)"
   ]
  },
  {
   "cell_type": "code",
   "execution_count": null,
   "metadata": {},
   "outputs": [],
   "source": [
    "sns.countplot(x = 'ArahAngin9am', data = df_train)"
   ]
  },
  {
   "cell_type": "code",
   "execution_count": null,
   "metadata": {},
   "outputs": [],
   "source": [
    "sns.countplot(x = 'ArahAngin3pm', data = df_train)"
   ]
  },
  {
   "cell_type": "code",
   "execution_count": null,
   "metadata": {},
   "outputs": [],
   "source": [
    "sns.countplot(x = 'BersaljuHariIni', data = df_train)"
   ]
  },
  {
   "cell_type": "code",
   "execution_count": null,
   "metadata": {},
   "outputs": [],
   "source": [
    "sns.countplot(x = 'BersaljuBesok', data = df_train)"
   ]
  },
  {
   "cell_type": "markdown",
   "metadata": {},
   "source": [
    "FEATURE ENGINEERING"
   ]
  },
  {
   "cell_type": "code",
   "execution_count": null,
   "metadata": {},
   "outputs": [],
   "source": [
    "# BINNING ATRIBUT \"ARAH ANGIN\"\n",
    "\n",
    "ArahAnginTerkencang = {\"ArahAnginTerkencang\": \n",
    "                        {'WSW' : 'W', \n",
    "                        'ESE' : 'E',\n",
    "                        'SSW' : 'S',\n",
    "                        'SW' : 'W',\n",
    "                        'WNW' : 'W',\n",
    "                        'ENE' : 'T',\n",
    "                        'SE' : 'T',\n",
    "                        'SSE' : 'S',\n",
    "                        'NNW' : 'N',\n",
    "                        'NW' : 'W',\n",
    "                        'NE' : 'E',\n",
    "                        'NNE' : 'N'\n",
    "                        }}\n",
    "ArahAngin9am = {\"ArahAngin9am\": \n",
    "                        {'WSW' : 'W', \n",
    "                        'ESE' : 'E',\n",
    "                        'SSW' : 'S',\n",
    "                        'SW' : 'W',\n",
    "                        'WNW' : 'W',\n",
    "                        'ENE' : 'T',\n",
    "                        'SE' : 'T',\n",
    "                        'SSE' : 'S',\n",
    "                        'NNW' : 'N',\n",
    "                        'NW' : 'W',\n",
    "                        'NE' : 'E',\n",
    "                        'NNE' : 'N'\n",
    "                        }}\n",
    "ArahAngin3pm = {\"ArahAngin3pm\": \n",
    "                        {'WSW' : 'W', \n",
    "                        'ESE' : 'E',\n",
    "                        'SSW' : 'S',\n",
    "                        'SW' : 'W',\n",
    "                        'WNW' : 'W',\n",
    "                        'ENE' : 'T',\n",
    "                        'SE' : 'T',\n",
    "                        'SSE' : 'S',\n",
    "                        'NNW' : 'N',\n",
    "                        'NW' : 'W',\n",
    "                        'NE' : 'E',\n",
    "                        'NNE' : 'N'\n",
    "                        }}\n",
    "\n",
    "df_train.replace(ArahAnginTerkencang, inplace=True)\n",
    "df_train.replace(ArahAngin9am, inplace=True)\n",
    "df_train.replace(ArahAngin3pm, inplace=True)\n",
    "\n",
    "df_train"
   ]
  },
  {
   "cell_type": "code",
   "execution_count": null,
   "metadata": {},
   "outputs": [],
   "source": [
    "# ENCODE CATEGORICAL VARIABLE\n",
    "\n",
    "labelencoder = LabelEncoder()\n",
    "df_train['ArahAnginTerkencang'] = labelencoder.fit_transform(df_train['ArahAnginTerkencang'])\n",
    "labelencoder = LabelEncoder()\n",
    "df_train['ArahAngin9am'] = labelencoder.fit_transform(df_train['ArahAngin9am'])\n",
    "labelencoder = LabelEncoder()\n",
    "df_train['ArahAngin3pm'] = labelencoder.fit_transform(df_train['ArahAngin3pm'])\n",
    "labelencoder = LabelEncoder()\n",
    "df_train['BersaljuHariIni'] = labelencoder.fit_transform(df_train['BersaljuHariIni'])\n",
    "labelencoder = LabelEncoder()\n",
    "df_train['BersaljuBesok'] = labelencoder.fit_transform(df_train['BersaljuBesok'])\n",
    "\n",
    "df_train"
   ]
  },
  {
   "cell_type": "code",
   "execution_count": null,
   "metadata": {},
   "outputs": [],
   "source": [
    "scaler = MinMaxScaler()\n",
    "\n",
    "df_train.iloc[0:len(df_train),[0,1,2,3,4,5,6,7,8,9,10,11,12,13,14,15,16,17,18,19,20]] = scaler.fit_transform(df_train.iloc[0:len(df_train),[0,1,2,3,4,5,6,7,8,9,10,11,12,13,14,15,16,17,18,19,20]])\n",
    "\n",
    "df_train.head()"
   ]
  },
  {
   "cell_type": "code",
   "execution_count": null,
   "metadata": {},
   "outputs": [],
   "source": [
    "# SAVE TO CSV\r\n",
    "\r\n",
    "df_train.to_csv(r'E:\\Kuliah\\Semester 4\\Machine Learning\\UAS\\MLDeteksiSalju\\data_for_clustering.csv', index=False, header=True)"
   ]
  },
  {
   "cell_type": "markdown",
   "metadata": {},
   "source": [
    "K-MEANS CLUSTERING"
   ]
  },
  {
   "cell_type": "code",
   "execution_count": null,
   "metadata": {},
   "outputs": [],
   "source": [
    "# MENGHITUNG NILAI EUCLIDEAN DISTANCE\n",
    "\n",
    "def euclidian_distance(u, v):\n",
    "    return sum((p-q)**2 for p, q in zip(u, v))**0.5"
   ]
  },
  {
   "cell_type": "code",
   "execution_count": null,
   "metadata": {},
   "outputs": [],
   "source": [
    "def kmeans(n_neighbour, n_feat, centroids):\n",
    "    # Looping Algoritma K-Means sampai nilai centroid sama\n",
    "    while (True):\n",
    "        cluster = []\n",
    "\n",
    "        for i in range(len(X)):\n",
    "            euclid = []\n",
    "            #menghitung euclidean distance\n",
    "            for l in range(0, n_neighbour):\n",
    "                euclid.append(euclidian_distance(X[i][:n_feat],centroids[l]))\n",
    "            #memilih cluster dari nilai minimum euclidean distance\n",
    "            idx = np.argmin(euclid)\n",
    "            cluster.append(idx+1)\n",
    "            #menambahkan cluster ke X\n",
    "            X[i][n_feat] = idx+1\n",
    "\n",
    "        #clustering centroid\n",
    "        group = {}\n",
    "        for j in set(cluster):\n",
    "            group[j] = [i for i in range(len(cluster)) if cluster[i] == j]\n",
    "    \n",
    "        #memasukkan info centroid ke tiap cluster\n",
    "        dataX = {}\n",
    "        for j in range(1,n_neighbour+1):\n",
    "            dataX[j] = [X[group[j][i]][:n_feat] for i in range(len(group[j]))]\n",
    "        \n",
    "        #mengassign centroid baru ke tiap cluster\n",
    "        new_centroids = []\n",
    "        for l in range(1,n_neighbour+1):\n",
    "            new_centroids.append(np.mean(dataX[l], axis=0).tolist())\n",
    "        \n",
    "        if (centroids == new_centroids):\n",
    "            return centroids\n",
    "#             break\n",
    "        \n",
    "        centroids = copy.copy(new_centroids)"
   ]
  },
  {
   "cell_type": "markdown",
   "metadata": {},
   "source": [
    "EKSPERIMEN 1 (Menggunakan Fitur SuhuMin dan Hujan)"
   ]
  },
  {
   "cell_type": "code",
   "execution_count": null,
   "metadata": {},
   "outputs": [],
   "source": [
    "kn = [2,3,4,5,7]\n",
    "sil = []\n",
    "\n",
    "for k in kn:\n",
    "    X = df_train[['SuhuMin','Hujan']]\n",
    "    X['cluster'] = 0\n",
    "    X = X.values.tolist()\n",
    "    n_feat = 2\n",
    "    centroids = []\n",
    "    for i in range(k):\n",
    "        rand = np.random.randint(0, len(X)-1)\n",
    "        centroids.append(X[rand][:n_feat])\n",
    "    km = kmeans(k, n_feat, centroids)\n",
    "    xy = pd.DataFrame(data=X)\n",
    "    sc = silhouette_score(xy.iloc[:,[0,1]], xy[2], metric = 'euclidean')\n",
    "    sil.append(sc)"
   ]
  },
  {
   "cell_type": "code",
   "execution_count": null,
   "metadata": {},
   "outputs": [],
   "source": [
    "plt.plot(kn, sil, 'bx-') \n",
    "plt.xlabel('Nilai K') \n",
    "plt.ylabel('Silhoutte Score') \n",
    "plt.title('Silhoutte Score untuk tiap K') \n",
    "plt.show()"
   ]
  },
  {
   "cell_type": "code",
   "execution_count": null,
   "metadata": {},
   "outputs": [],
   "source": [
    "# K = 2\n",
    "\n",
    "X = df_train[['SuhuMin','Hujan']]\n",
    "X['cluster'] = 0\n",
    "X = X.values.tolist()\n",
    "k = 2\n",
    "n_feat = 2\n",
    "centroids = []\n",
    "for i in range(k):\n",
    "    rand = np.random.randint(0, len(X)-1)\n",
    "    centroids.append(X[rand][:n_feat])\n",
    "km = kmeans(k, n_feat, centroids)"
   ]
  },
  {
   "cell_type": "code",
   "execution_count": null,
   "metadata": {},
   "outputs": [],
   "source": [
    "X = np.array(X)\n",
    "xy = pd.DataFrame(data=X)\n",
    "output = plt.scatter(X[:,0], X[:,1], s = 100, c = xy[2], marker = 'o', alpha = 1, )\n",
    "centers = np.array(centroids)\n",
    "plt.scatter(centers[:,0], centers[:,1], c='red', s=200, alpha=1 , marker='o');\n",
    "plt.title('Hasil Clustering K-Means')\n",
    "plt.colorbar (output)\n",
    "plt.show()"
   ]
  },
  {
   "cell_type": "code",
   "execution_count": null,
   "metadata": {},
   "outputs": [],
   "source": [
    "# SILHOUETTE SCORE UNTUK K = 2\n",
    "\n",
    "score = silhouette_score(xy.iloc[:,[0,n_feat-1]], xy[n_feat], metric = 'euclidean')\n",
    "score"
   ]
  },
  {
   "cell_type": "code",
   "execution_count": null,
   "metadata": {},
   "outputs": [],
   "source": [
    "# # K = 3\n",
    "\n",
    "# X = df_train[['SuhuMin','Hujan']]\n",
    "# X['cluster'] = 0\n",
    "# X = X.values.tolist()\n",
    "# k = 3\n",
    "# n_feat = 2\n",
    "# centroids = []\n",
    "# for i in range(k):\n",
    "#     rand = np.random.randint(0, len(X)-1)\n",
    "#     centroids.append(X[rand][:n_feat])\n",
    "# km = kmeans(k, n_feat, centroids)"
   ]
  },
  {
   "cell_type": "code",
   "execution_count": null,
   "metadata": {},
   "outputs": [],
   "source": [
    "# X = np.array(X)\n",
    "# xy = pd.DataFrame(data=X)\n",
    "# output = plt.scatter(X[:,0], X[:,1], s = 100, c = xy[2], marker = 'o', alpha = 1, )\n",
    "# centers = np.array(centroids)\n",
    "# plt.scatter(centers[:,0], centers[:,1], c='red', s=200, alpha=1 , marker='o');\n",
    "# plt.title('Hasil Clustering K-Means')\n",
    "# plt.colorbar (output)\n",
    "# plt.show()"
   ]
  },
  {
   "cell_type": "code",
   "execution_count": null,
   "metadata": {},
   "outputs": [],
   "source": [
    "# # SILHOUETTE SCORE UNTUK K = 3\n",
    "\n",
    "# score = silhouette_score(xy.iloc[:,[0,n_feat-1]], xy[n_feat], metric = 'euclidean')\n",
    "# score"
   ]
  },
  {
   "cell_type": "code",
   "execution_count": null,
   "metadata": {},
   "outputs": [],
   "source": [
    "# # K = 4\n",
    "\n",
    "# X = df_train[['SuhuMin','Hujan']]\n",
    "# X['cluster'] = 0\n",
    "# X = X.values.tolist()\n",
    "# k = 4\n",
    "# n_feat = 2\n",
    "# centroids = []\n",
    "# for i in range(k):\n",
    "#     rand = np.random.randint(0, len(X)-1)\n",
    "#     centroids.append(X[rand][:n_feat])\n",
    "# km = kmeans(k, n_feat, centroids)"
   ]
  },
  {
   "cell_type": "code",
   "execution_count": null,
   "metadata": {},
   "outputs": [],
   "source": [
    "# X = np.array(X)\n",
    "# xy = pd.DataFrame(data=X)\n",
    "# output = plt.scatter(X[:,0], X[:,1], s = 100, c = xy[2], marker = 'o', alpha = 1, )\n",
    "# centers = np.array(centroids)\n",
    "# plt.scatter(centers[:,0], centers[:,1], c='red', s=200, alpha=1 , marker='o');\n",
    "# plt.title('Hasil Clustering K-Means')\n",
    "# plt.colorbar (output)\n",
    "# plt.show()"
   ]
  },
  {
   "cell_type": "code",
   "execution_count": null,
   "metadata": {},
   "outputs": [],
   "source": [
    "# # SILHOUETTE SCORE UNTUK K = 4\n",
    "\n",
    "# score = silhouette_score(xy.iloc[:,[0,n_feat-1]], xy[n_feat], metric = 'euclidean')\n",
    "# score"
   ]
  },
  {
   "cell_type": "markdown",
   "metadata": {},
   "source": [
    "EKSPERIMEN 2 (Dengan Fitur SinarMatahari dan Penguapan)"
   ]
  },
  {
   "cell_type": "code",
   "execution_count": null,
   "metadata": {},
   "outputs": [],
   "source": [
    "kn = [2,3,4,5,7]\n",
    "sil = []\n",
    "\n",
    "for k in kn:\n",
    "    X = df_train[['SinarMatahari','Penguapan']]\n",
    "    X['cluster'] = 0\n",
    "    X = X.values.tolist()\n",
    "    n_feat = 2\n",
    "    centroids = []\n",
    "    for i in range(k):\n",
    "        rand = np.random.randint(0, len(X)-1)\n",
    "        centroids.append(X[rand][:n_feat])\n",
    "    km = kmeans(k, n_feat, centroids)\n",
    "    xy = pd.DataFrame(data=X)\n",
    "    sc = silhouette_score(xy.iloc[:,[0,1]], xy[2], metric = 'euclidean')\n",
    "    sil.append(sc)"
   ]
  },
  {
   "cell_type": "code",
   "execution_count": null,
   "metadata": {},
   "outputs": [],
   "source": [
    "plt.plot(kn, sil, 'bx-') \n",
    "plt.xlabel('Nilai K') \n",
    "plt.ylabel('Silhoutte Score') \n",
    "plt.title('Silhoutte Score untuk tiap K') \n",
    "plt.show()"
   ]
  },
  {
   "cell_type": "code",
   "execution_count": null,
   "metadata": {},
   "outputs": [],
   "source": [
    "# K = 2\n",
    "\n",
    "X = df_train[['SinarMatahari','Penguapan']]\n",
    "X['cluster'] = 0\n",
    "X = X.values.tolist()\n",
    "k = 2\n",
    "n_feat = 2\n",
    "centroids = []\n",
    "for i in range(k):\n",
    "    rand = np.random.randint(0, len(X)-1)\n",
    "    centroids.append(X[rand][:n_feat])\n",
    "km = kmeans(k, n_feat, centroids)"
   ]
  },
  {
   "cell_type": "code",
   "execution_count": null,
   "metadata": {},
   "outputs": [],
   "source": [
    "X = np.array(X)\n",
    "xy = pd.DataFrame(data=X)\n",
    "output = plt.scatter(X[:,0], X[:,1], s = 100, c = xy[2], marker = 'o', alpha = 1, )\n",
    "centers = np.array(centroids)\n",
    "plt.scatter(centers[:,0], centers[:,1], c='red', s=200, alpha=1 , marker='o');\n",
    "plt.title('Hasil Clustering K-Means')\n",
    "plt.colorbar (output)\n",
    "plt.show()"
   ]
  },
  {
   "cell_type": "code",
   "execution_count": null,
   "metadata": {},
   "outputs": [],
   "source": [
    "# SILHOUETTE SCORE UNTUK K = 2\n",
    "\n",
    "score = silhouette_score(xy.iloc[:,[0,n_feat-1]], xy[n_feat], metric = 'euclidean')\n",
    "score"
   ]
  },
  {
   "cell_type": "code",
   "execution_count": null,
   "metadata": {},
   "outputs": [],
   "source": [
    "# # K = 3\n",
    "\n",
    "# X = df_train[['SinarMatahari','Penguapan']]\n",
    "# X['cluster'] = 0\n",
    "# X = X.values.tolist()\n",
    "# k = 3\n",
    "# n_feat = 2\n",
    "# centroids = []\n",
    "# for i in range(k):\n",
    "#     rand = np.random.randint(0, len(X)-1)\n",
    "#     centroids.append(X[rand][:n_feat])\n",
    "# km = kmeans(k, n_feat, centroids)"
   ]
  },
  {
   "cell_type": "code",
   "execution_count": null,
   "metadata": {},
   "outputs": [],
   "source": [
    "# X = np.array(X)\n",
    "# xy = pd.DataFrame(data=X)\n",
    "# output = plt.scatter(X[:,0], X[:,1], s = 100, c = xy[2], marker = 'o', alpha = 1, )\n",
    "# centers = np.array(centroids)\n",
    "# plt.scatter(centers[:,0], centers[:,1], c='red', s=200, alpha=1 , marker='o');\n",
    "# plt.title('Hasil Clustering K-Means')\n",
    "# plt.colorbar (output)\n",
    "# plt.show()"
   ]
  },
  {
   "cell_type": "code",
   "execution_count": null,
   "metadata": {},
   "outputs": [],
   "source": [
    "# # SILHOUETTE SCORE UNTUK K = 3\n",
    "\n",
    "# score = silhouette_score(xy.iloc[:,[0,n_feat-1]], xy[n_feat], metric = 'euclidean')\n",
    "# score"
   ]
  },
  {
   "cell_type": "code",
   "execution_count": null,
   "metadata": {},
   "outputs": [],
   "source": [
    "# # K = 4\n",
    "\n",
    "# X = df_train[['SinarMatahari','Penguapan']]\n",
    "# X['cluster'] = 0\n",
    "# X = X.values.tolist()\n",
    "# k = 4\n",
    "# n_feat = 2\n",
    "# centroids = []\n",
    "# for i in range(k):\n",
    "#     rand = np.random.randint(0, len(X)-1)\n",
    "#     centroids.append(X[rand][:n_feat])\n",
    "# km = kmeans(k, n_feat, centroids)"
   ]
  },
  {
   "cell_type": "code",
   "execution_count": null,
   "metadata": {},
   "outputs": [],
   "source": [
    "# X = np.array(X)\n",
    "# xy = pd.DataFrame(data=X)\n",
    "# output = plt.scatter(X[:,0], X[:,1], s = 100, c = xy[2], marker = 'o', alpha = 1, )\n",
    "# centers = np.array(centroids)\n",
    "# plt.scatter(centers[:,0], centers[:,1], c='red', s=200, alpha=1 , marker='o');\n",
    "# plt.title('Hasil Clustering K-Means')\n",
    "# plt.colorbar (output)\n",
    "# plt.show()"
   ]
  },
  {
   "cell_type": "code",
   "execution_count": null,
   "metadata": {},
   "outputs": [],
   "source": [
    "# # SILHOUETTE SCORE UNTUK K = 4\n",
    "\n",
    "# score = silhouette_score(xy.iloc[:,[0,n_feat-1]], xy[n_feat], metric = 'euclidean')\n",
    "# score"
   ]
  }
 ],
 "metadata": {
  "interpreter": {
   "hash": "a1c591767beefbefd559654e2f11b1e01fd0d59418d40cc77040e81dffdc2594"
  },
  "kernelspec": {
   "display_name": "Python 3",
   "language": "python",
   "name": "python3"
  },
  "language_info": {
   "codemirror_mode": {
    "name": "ipython",
    "version": 3
   },
   "file_extension": ".py",
   "mimetype": "text/x-python",
   "name": "python",
   "nbconvert_exporter": "python",
   "pygments_lexer": "ipython3",
   "version": "3.8.3"
  },
  "metadata": {
   "interpreter": {
    "hash": "a1c591767beefbefd559654e2f11b1e01fd0d59418d40cc77040e81dffdc2594"
   }
  }
 },
 "nbformat": 4,
 "nbformat_minor": 2
}